{
  "nbformat": 4,
  "nbformat_minor": 0,
  "metadata": {
    "colab": {
      "provenance": []
    },
    "kernelspec": {
      "name": "python3",
      "display_name": "Python 3"
    },
    "language_info": {
      "name": "python"
    }
  },
  "cells": [
    {
      "cell_type": "markdown",
      "source": [
        "Clone YOLOv5 and Create directories named Input and Output."
      ],
      "metadata": {
        "id": "VPjjpkxFuuR8"
      }
    },
    {
      "cell_type": "code",
      "execution_count": null,
      "metadata": {
        "id": "bYf3ma6Uung3"
      },
      "outputs": [],
      "source": [
        "!git clone https://github.com/ultralytics/yolov5  # clone\n",
        "%cd yolov5\n",
        "%pip install -qr requirements.txt comet_ml  # install\n",
        "\n",
        "import torch\n",
        "import utils\n",
        "display = utils.notebook_init()  # checks\n",
        "!mkdir /content/input\n",
        "!mkdir /content/output"
      ]
    },
    {
      "cell_type": "markdown",
      "source": [
        "Upload your post training \"best.pt\", \"detect_images.py\" and \"detect_videos.py\"."
      ],
      "metadata": {
        "id": "iW8a3SoXu5Vl"
      }
    },
    {
      "cell_type": "markdown",
      "source": [
        "Input the images from which you want to detect."
      ],
      "metadata": {
        "id": "FDVggOL_vPSd"
      }
    },
    {
      "cell_type": "code",
      "source": [
        "from google.colab import files\n",
        "from IPython.display import display, Image\n",
        "import os\n",
        "\n",
        "# Specify the folder path\n",
        "input_folder = '/content/input'\n",
        "\n",
        "# Upload image files to the specified folder\n",
        "uploaded = files.upload()\n",
        "for filename in uploaded.keys():\n",
        "    # Move the uploaded file to the specified folder\n",
        "    os.rename(filename, os.path.join(input_folder, filename))"
      ],
      "metadata": {
        "id": "fg3LWCMoutUX"
      },
      "execution_count": null,
      "outputs": []
    },
    {
      "cell_type": "markdown",
      "source": [
        "Detect from Images"
      ],
      "metadata": {
        "id": "xKttdPERv2d2"
      }
    },
    {
      "cell_type": "code",
      "source": [
        "!python detect_images.py"
      ],
      "metadata": {
        "id": "uRG-fODcvcpd"
      },
      "execution_count": null,
      "outputs": []
    },
    {
      "cell_type": "markdown",
      "source": [
        "Alternatively, input the videos from which you want to detect. For simplicity and fast operation, we can download directly from google drive."
      ],
      "metadata": {
        "id": "zFUZd_YOwByV"
      }
    },
    {
      "cell_type": "code",
      "source": [
        "!gdown --id (post your file link here) -O /content/input/input_video.mp4 #renaming the video file into \"input_video\""
      ],
      "metadata": {
        "id": "bj3Yc8vlwAW5"
      },
      "execution_count": null,
      "outputs": []
    },
    {
      "cell_type": "markdown",
      "source": [
        "Detect from Videos"
      ],
      "metadata": {
        "id": "ChQngyjBwkMN"
      }
    },
    {
      "cell_type": "code",
      "source": [
        "!python detect_videos.py"
      ],
      "metadata": {
        "id": "S9Xj9vPUwgD-"
      },
      "execution_count": null,
      "outputs": []
    }
  ]
}